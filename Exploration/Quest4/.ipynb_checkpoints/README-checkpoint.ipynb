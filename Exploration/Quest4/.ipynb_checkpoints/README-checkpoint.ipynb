{
 "cells": [
  {
   "cell_type": "markdown",
   "id": "124e7e92",
   "metadata": {},
   "source": [
    "🔑 **PRT(Peer Review Template)**\n",
    "\n",
    "- [x]  **1. 주어진 문제를 해결하는 완성된 코드가 제출되었나요? (완성도)**\n",
    "    - 문제에서 요구하는 최종 결과물이 첨부되었는지 확인\n",
    "    - 문제를 해결하는 완성된 코드란 프로젝트 루브릭 3개 중 2개, \n",
    "    퀘스트 문제 요구조건 등을 지칭\n",
    "        - 해당 조건을 만족하는 부분의 코드 및 결과물을 캡쳐하여 사진으로 첨부\n",
    "\n",
    "- [x]  **2. 프로젝트에서 핵심적인 부분에 대한 설명이 주석(닥스트링) 및 마크다운 형태로 잘 기록되어있나요? (설명)**\n",
    "    - [x]  모델 선정 이유\n",
    "    - [ ]  Metrics 선정 이유\n",
    "    - [ ]  Loss 선정 이유\n",
    "\n",
    "- [x]  **3. 체크리스트에 해당하는 항목들을 모두 수행하였나요? (문제 해결)**\n",
    "    - [ ]  데이터를 분할하여 프로젝트를 진행했나요? (train, validation, test 데이터로 구분)\n",
    "    - [ ]  하이퍼파라미터를 변경해가며 여러 시도를 했나요? (learning rate, dropout rate, unit, batch size, epoch 등)\n",
    "    - [x]  각 실험을 시각화하여 비교하였나요?\n",
    "    - [x]  모든 실험 결과가 기록되었나요?\n",
    "\n",
    "- [x]  **4. 프로젝트에 대한 회고가 상세히 기록 되어 있나요? (회고, 정리)**\n",
    "    - [x]  배운 점\n",
    "    - [x]  아쉬운 점\n",
    "    - [x]  느낀 점\n",
    "    - [x]  어려웠던 점"
   ]
  }
 ],
 "metadata": {
  "kernelspec": {
   "display_name": "Python 3 (ipykernel)",
   "language": "python",
   "name": "python3"
  },
  "language_info": {
   "codemirror_mode": {
    "name": "ipython",
    "version": 3
   },
   "file_extension": ".py",
   "mimetype": "text/x-python",
   "name": "python",
   "nbconvert_exporter": "python",
   "pygments_lexer": "ipython3",
   "version": "3.11.4"
  }
 },
 "nbformat": 4,
 "nbformat_minor": 5
}
